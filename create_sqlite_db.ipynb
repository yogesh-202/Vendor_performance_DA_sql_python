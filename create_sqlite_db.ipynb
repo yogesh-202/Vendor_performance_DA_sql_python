{
 "cells": [
  {
   "cell_type": "code",
   "execution_count": 1,
   "id": "7d795d92-8027-4fba-8942-37daafcbd7fe",
   "metadata": {},
   "outputs": [],
   "source": [
    "import pandas as pd \n",
    "import os \n",
    "from sqlalchemy import create_engine\n",
    "import dask.dataframe as dd\n"
   ]
  },
  {
   "cell_type": "code",
   "execution_count": 3,
   "id": "29752be0-fa8a-4db0-929e-297c42317c66",
   "metadata": {},
   "outputs": [],
   "source": [
    "engine =create_engine('sqlite:///inventory_db.db')"
   ]
  },
  {
   "cell_type": "code",
   "execution_count": 7,
   "id": "e4487bda-c12d-42d7-a6de-1ea718514604",
   "metadata": {},
   "outputs": [
    {
     "name": "stdout",
     "output_type": "stream",
     "text": [
      "Ingesting begin_inventory.csv with shape (206529, 9)\n",
      "Ingesting end_inventory.csv with shape (224489, 9)\n",
      "Ingesting purchases.csv with shape (2372474, 16)\n",
      "Ingesting purchase_prices.csv with shape (12261, 9)\n",
      "Ingesting vendor_invoice.csv with shape (5543, 10)\n"
     ]
    }
   ],
   "source": [
    "for file in os.listdir('data'):\n",
    "    if file.endswith('.csv') and file != 'sales.csv':\n",
    "        df = pd.read_csv('data/' + file)\n",
    "        print(f\"Ingesting {file} with shape {df.shape}\")\n",
    "        ingest_db(df, file[:-4], engine)"
   ]
  },
  {
   "cell_type": "code",
   "execution_count": 5,
   "id": "b1ec87df-5679-47ea-b12a-100a510a272f",
   "metadata": {},
   "outputs": [],
   "source": [
    "def ingest_db(df,table_name, engine):\n",
    "    df.to_sql(table_name, con=engine, if_exists='replace',index=False)"
   ]
  },
  {
   "cell_type": "code",
   "execution_count": 9,
   "id": "01b270b4-b752-48b4-a8b4-6012b1118ad2",
   "metadata": {},
   "outputs": [],
   "source": [
    "big_df = dd.read_csv('data/sales.csv')"
   ]
  },
  {
   "cell_type": "code",
   "execution_count": 11,
   "id": "8e76d195-ec43-4dc4-b6a1-af35ccbf73a0",
   "metadata": {},
   "outputs": [],
   "source": [
    "for part in big_df.partitions:\n",
    "    part_df = part.compute()\n",
    "    part_df.to_sql('sales', con=engine, if_exists='append', index=False)\n",
    "    "
   ]
  },
  {
   "cell_type": "code",
   "execution_count": null,
   "id": "f9daed58-41ca-4248-b8e5-580ef9822c57",
   "metadata": {},
   "outputs": [],
   "source": []
  },
  {
   "cell_type": "code",
   "execution_count": null,
   "id": "eb649ea0-c845-4752-b66f-f3e05da8306b",
   "metadata": {},
   "outputs": [],
   "source": []
  }
 ],
 "metadata": {
  "kernelspec": {
   "display_name": "Python [conda env:base] *",
   "language": "python",
   "name": "conda-base-py"
  },
  "language_info": {
   "codemirror_mode": {
    "name": "ipython",
    "version": 3
   },
   "file_extension": ".py",
   "mimetype": "text/x-python",
   "name": "python",
   "nbconvert_exporter": "python",
   "pygments_lexer": "ipython3",
   "version": "3.12.7"
  }
 },
 "nbformat": 4,
 "nbformat_minor": 5
}
